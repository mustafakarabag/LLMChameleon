{
 "cells": [
  {
   "cell_type": "code",
   "execution_count": null,
   "id": "16723715",
   "metadata": {},
   "outputs": [],
   "source": [
    "import os\n",
    "import json\n",
    "import pickle\n",
    "from openai import OpenAI\n",
    "\n",
    "client = OpenAI(api_key=os.environ[\"OPENAI_API_KEY\"])"
   ]
  },
  {
   "cell_type": "code",
   "execution_count": 11,
   "id": "f998b9fc",
   "metadata": {},
   "outputs": [],
   "source": [
    "# Existing categories and secret words\n",
    "with open(\"chameleon_cards_original.pkl\", \"rb\") as f:\n",
    "    chameleon_cards = pickle.load(f)\n",
    "\n",
    "chameleon_cards_str = json.dumps(chameleon_cards, indent=2)\n",
    "print(chameleon_cards_str)"
   ]
  },
  {
   "cell_type": "code",
   "execution_count": 32,
   "id": "6a317171",
   "metadata": {},
   "outputs": [],
   "source": [
    "# Collect new cards\n",
    "new_cards = dict()\n",
    "all_interactions = []\n",
    "errs = []\n",
    "num_new_cards = 60\n",
    "num_new_cards_batch = 60\n",
    "gen_kwargs = {\n",
    "    \"model\": \"gpt-4o-2024-08-06\",\n",
    "    \"temperature\": 0.8,\n",
    "}\n",
    "\n",
    "for i in range(0, num_new_cards, num_new_cards_batch):\n",
    "    print(f\"Generating new cards {i} to {i + num_new_cards_batch}. Number of new cards so far: {len(new_cards)}\")\n",
    "    \n",
    "    # Construct the prompt\n",
    "    prompt_num_new_cards = min(num_new_cards_batch, num_new_cards - i)    \n",
    "    prompt = \"\"\"\n",
    "We are playing the game Chameleon but do not have enough game cards (categories and possible secret words).\n",
    "Please suggest {n_new_cards} new categories and associated 16 secret words for the game. Here are the existing categories and secret words:\n",
    "\n",
    "{chameleon_cards_str}\n",
    "\n",
    "Please provide the {n_new_cards} new categories and secret words in a JSON format, where each category is a key and the value is a list of secret words. Do not say anything else, just return the JSON.{additional_instruction}\n",
    "    \"\"\".strip().format(n_new_cards=prompt_num_new_cards, chameleon_cards_str=chameleon_cards_str, additional_instruction=\"\")\n",
    "\n",
    "    # Call the OpenAI API to get new categories and secret words\n",
    "    response = client.responses.create(input=prompt, **gen_kwargs)\n",
    "    all_interactions.append((prompt, response.output_text))\n",
    "\n",
    "    # Extract the new cards from the response\n",
    "    try:\n",
    "        current_new_cards = json.loads(response.output_text.replace(\"```json\", \"\").replace(\"```\", \"\").strip())\n",
    "        new_cards.update(current_new_cards)\n",
    "    except json.JSONDecodeError as e:\n",
    "        print(\"Failed to decode JSON response:\", e)\n",
    "        print(\"Response text:\", response.output_text)\n",
    "        errs.append((prompt, response.output_text))\n",
    "    except Exception as e:\n",
    "        print(\"An error occurred:\", e)\n",
    "        errs.append((prompt, response.output_text))"
   ]
  },
  {
   "cell_type": "code",
   "execution_count": null,
   "id": "101be67b",
   "metadata": {},
   "outputs": [],
   "source": [
    "# Save the results\n",
    "import datetime\n",
    "timestamp = datetime.datetime.now().strftime(\"%Y-%m-%d_%H-%M\")\n",
    "\n",
    "with open(f\"new_chameleon_cards_{timestamp}.pkl\", \"wb\") as f:\n",
    "    pickle.dump(new_cards, f)\n",
    "with open(f\"new_chameleon_cards_detail_{timestamp}.pkl\", \"wb\") as f:\n",
    "    pickle.dump({\n",
    "        \"new_cards\": new_cards,\n",
    "        \"all_interactions\": all_interactions,\n",
    "        \"errors\": errs,\n",
    "        \"gen_kwargs\": gen_kwargs,\n",
    "    }, f)\n",
    "\n",
    "print(f\"Generated {len(new_cards)} new cards.\")\n",
    "print(f\"Saved new cards to new_chameleon_cards_{timestamp}.pkl and new_chameleon_cards_detail_{timestamp}.pkl\")"
   ]
  },
  {
   "cell_type": "markdown",
   "id": "4f2c7aab",
   "metadata": {},
   "source": [
    "## Combine"
   ]
  },
  {
   "cell_type": "code",
   "execution_count": 23,
   "id": "1db2b427",
   "metadata": {},
   "outputs": [],
   "source": [
    "all_cards = {**chameleon_cards, **new_cards}\n",
    "print(f\"Number of combined cards: {len(all_cards)}\")\n",
    "\n",
    "# Save the combined cards\n",
    "with open(\"chameleon_cards.pkl\", \"wb\") as f:\n",
    "    pickle.dump(all_cards, f)"
   ]
  }
 ],
 "metadata": {
  "kernelspec": {
   "display_name": "llmg",
   "language": "python",
   "name": "llmg"
  }
 },
 "nbformat": 4,
 "nbformat_minor": 5
}
